{
 "cells": [
  {
   "cell_type": "markdown",
   "id": "angry-pearl",
   "metadata": {
    "toc": true
   },
   "source": [
    "<h1>Table of Contents<span class=\"tocSkip\"></span></h1>\n",
    "<div class=\"toc\"><ul class=\"toc-item\"><li><span><a href=\"#AB-Testing\" data-toc-modified-id=\"AB-Testing-1\"><span class=\"toc-item-num\">1&nbsp;&nbsp;</span>AB-Testing</a></span></li></ul></div>"
   ]
  },
  {
   "cell_type": "markdown",
   "id": "c92ba6e0",
   "metadata": {},
   "source": [
    "# AB-Testing\n",
    "\n",
    "![cats](images/cats.jpeg)\n",
    "\n",
    "\n",
    "Imaginad que somos los cientificos de datos de la empresa de videojuegos Tactile Entertainment. Los desarrolladores del juego Cookie Cats pretenden introducir un cambio en el juego para aumentar la retencion de los jugadores. En cierto nivel del juego los jugadores se encuentran una puerta que les obliga a esperar o a pagar la app. Actualmente la puerta se encuentra en nivel 30 y se pretende pasar al nivel 40, para comprobar la retencion a 1 y 7 dias. Antes de realizar el cambio definitivo en el juego se raliza un test AB.\n",
    "\n",
    "Los datos estan alojados en `data/cookie_cats.csv`. Nuestro grupo de control sera la version actual `gate_30` y el grupo de tratamiento sera la version `gate_40`. Debemos realizar el test para 1 dia de retencion `retention_1` y para 7 dias `retention_7`."
   ]
  },
  {
   "cell_type": "code",
   "execution_count": 13,
   "id": "ac3b2f52",
   "metadata": {},
   "outputs": [],
   "source": [
    "# librerias\n",
    "\n",
    "import pandas as pd\n",
    "import numpy as np\n",
    "from scipy import stats\n",
    "\n",
    "from statsmodels.stats.proportion import proportions_ztest, proportion_confint\n",
    "from scipy.stats import norm, sem\n",
    "import statsmodels.stats.api as sms\n",
    "import pylab as plt\n",
    "from scipy.stats import bernoulli, beta\n",
    "from bayes import *\n",
    "import warnings\n",
    "warnings.filterwarnings(\"ignore\")\n"
   ]
  },
  {
   "cell_type": "code",
   "execution_count": 2,
   "id": "7fe515c2",
   "metadata": {},
   "outputs": [
    {
     "data": {
      "text/plain": [
       "(   userid  version  sum_gamerounds  retention_1  retention_7\n",
       " 0     116  gate_30               3        False        False\n",
       " 1     337  gate_30              38         True        False\n",
       " 2     377  gate_40             165         True        False\n",
       " 3     483  gate_40               1        False        False\n",
       " 4     488  gate_40             179         True         True,\n",
       " (90189, 5))"
      ]
     },
     "execution_count": 2,
     "metadata": {},
     "output_type": "execute_result"
    }
   ],
   "source": [
    "# datos\n",
    "df=pd.read_csv('data/cookie_cats.csv')\n",
    "df.head() , df.shape"
   ]
  },
  {
   "cell_type": "code",
   "execution_count": 3,
   "id": "f2e6147a",
   "metadata": {},
   "outputs": [
    {
     "data": {
      "text/plain": [
       "(86195, 5)"
      ]
     },
     "execution_count": 3,
     "metadata": {},
     "output_type": "execute_result"
    }
   ],
   "source": [
    "# Asumo que las personas que no jugaron ni 1 ronda deben ser eliminados del dataFrame.\n",
    "df = df[df['sum_gamerounds'] != 0]\n",
    "df.shape"
   ]
  },
  {
   "cell_type": "code",
   "execution_count": 4,
   "id": "6429d194",
   "metadata": {},
   "outputs": [
    {
     "data": {
      "text/plain": [
       "version\n",
       "gate_40    43432\n",
       "gate_30    42763\n",
       "Name: count, dtype: int64"
      ]
     },
     "execution_count": 4,
     "metadata": {},
     "output_type": "execute_result"
    }
   ],
   "source": [
    "df.version.value_counts()"
   ]
  },
  {
   "cell_type": "code",
   "execution_count": 5,
   "id": "1d4d93ba",
   "metadata": {},
   "outputs": [],
   "source": [
    "imps_ctrl = 42763\n",
    "convs_ctrl = len(df[(df.version == 'gate_30') & (df.retention_1 == True)])\n",
    "imps_test = 43432\n",
    "convs_test = (len(df[(df.version == 'gate_40') & (df.retention_1 == True)]))\n"
   ]
  },
  {
   "cell_type": "code",
   "execution_count": 6,
   "id": "aad2aebd",
   "metadata": {},
   "outputs": [
    {
     "data": {
      "text/plain": [
       "'Tasas estancia: Control: 0.46753034165049223, Test: 0.46217074967765703'"
      ]
     },
     "execution_count": 6,
     "metadata": {},
     "output_type": "execute_result"
    }
   ],
   "source": [
    "CR_ctrl = convs_ctrl/imps_ctrl\n",
    "CR_test = convs_test/imps_test\n",
    "f'Tasas estancia: Control: {CR_ctrl}, Test: {CR_test}'"
   ]
  },
  {
   "cell_type": "code",
   "execution_count": 7,
   "id": "e5f596c0",
   "metadata": {},
   "outputs": [
    {
     "data": {
      "text/plain": [
       "-0.4066546818588541"
      ]
     },
     "execution_count": 7,
     "metadata": {},
     "output_type": "execute_result"
    }
   ],
   "source": [
    "\n",
    "efecto = sms.proportion_effectsize(CR_ctrl, CR_ctrl + 0.2)\n",
    "efecto"
   ]
  },
  {
   "cell_type": "code",
   "execution_count": 8,
   "id": "153dd99b",
   "metadata": {},
   "outputs": [
    {
     "data": {
      "text/plain": [
       "290.6407148839068"
      ]
     },
     "execution_count": 8,
     "metadata": {},
     "output_type": "execute_result"
    }
   ],
   "source": [
    "n_requirido = sms.NormalIndPower().solve_power(efecto,\n",
    "                                               power=0.99,\n",
    "                                               alpha=0.01)\n",
    "n_requirido"
   ]
  },
  {
   "cell_type": "code",
   "execution_count": 9,
   "id": "436e32dc",
   "metadata": {},
   "outputs": [
    {
     "data": {
      "text/html": [
       "<div>\n",
       "<style scoped>\n",
       "    .dataframe tbody tr th:only-of-type {\n",
       "        vertical-align: middle;\n",
       "    }\n",
       "\n",
       "    .dataframe tbody tr th {\n",
       "        vertical-align: top;\n",
       "    }\n",
       "\n",
       "    .dataframe thead th {\n",
       "        text-align: right;\n",
       "    }\n",
       "</style>\n",
       "<table border=\"1\" class=\"dataframe\">\n",
       "  <thead>\n",
       "    <tr style=\"text-align: right;\">\n",
       "      <th></th>\n",
       "      <th>userid</th>\n",
       "      <th>version</th>\n",
       "      <th>sum_gamerounds</th>\n",
       "      <th>retention_1</th>\n",
       "      <th>retention_7</th>\n",
       "    </tr>\n",
       "  </thead>\n",
       "  <tbody>\n",
       "    <tr>\n",
       "      <th>0</th>\n",
       "      <td>2741718</td>\n",
       "      <td>gate_30</td>\n",
       "      <td>15</td>\n",
       "      <td>True</td>\n",
       "      <td>False</td>\n",
       "    </tr>\n",
       "    <tr>\n",
       "      <th>1</th>\n",
       "      <td>1579627</td>\n",
       "      <td>gate_30</td>\n",
       "      <td>25</td>\n",
       "      <td>False</td>\n",
       "      <td>True</td>\n",
       "    </tr>\n",
       "    <tr>\n",
       "      <th>2</th>\n",
       "      <td>3558203</td>\n",
       "      <td>gate_30</td>\n",
       "      <td>5</td>\n",
       "      <td>False</td>\n",
       "      <td>False</td>\n",
       "    </tr>\n",
       "    <tr>\n",
       "      <th>3</th>\n",
       "      <td>50850</td>\n",
       "      <td>gate_30</td>\n",
       "      <td>34</td>\n",
       "      <td>True</td>\n",
       "      <td>True</td>\n",
       "    </tr>\n",
       "    <tr>\n",
       "      <th>4</th>\n",
       "      <td>6476239</td>\n",
       "      <td>gate_30</td>\n",
       "      <td>38</td>\n",
       "      <td>True</td>\n",
       "      <td>True</td>\n",
       "    </tr>\n",
       "  </tbody>\n",
       "</table>\n",
       "</div>"
      ],
      "text/plain": [
       "    userid  version  sum_gamerounds  retention_1  retention_7\n",
       "0  2741718  gate_30              15         True        False\n",
       "1  1579627  gate_30              25        False         True\n",
       "2  3558203  gate_30               5        False        False\n",
       "3    50850  gate_30              34         True         True\n",
       "4  6476239  gate_30              38         True         True"
      ]
     },
     "execution_count": 9,
     "metadata": {},
     "output_type": "execute_result"
    }
   ],
   "source": [
    "control = df[df.version == 'gate_30'].sample(n=291, random_state=42)\n",
    "\n",
    "tratamiento = df[df.version == 'gate_40'].sample(n=291, random_state=42)\n",
    "\n",
    "ab_test = pd.concat([control, tratamiento], axis=0)\n",
    "\n",
    "ab_test.reset_index(drop=True, inplace=True)\n",
    "\n",
    "ab_test.head()"
   ]
  },
  {
   "cell_type": "code",
   "execution_count": 14,
   "id": "9692b7cc",
   "metadata": {},
   "outputs": [
    {
     "data": {
      "text/html": [
       "<div>\n",
       "<style scoped>\n",
       "    .dataframe tbody tr th:only-of-type {\n",
       "        vertical-align: middle;\n",
       "    }\n",
       "\n",
       "    .dataframe tbody tr th {\n",
       "        vertical-align: top;\n",
       "    }\n",
       "\n",
       "    .dataframe thead th {\n",
       "        text-align: right;\n",
       "    }\n",
       "</style>\n",
       "<table border=\"1\" class=\"dataframe\">\n",
       "  <thead>\n",
       "    <tr style=\"text-align: right;\">\n",
       "      <th></th>\n",
       "      <th>conversion_rate</th>\n",
       "      <th>std</th>\n",
       "      <th>sem</th>\n",
       "    </tr>\n",
       "    <tr>\n",
       "      <th>version</th>\n",
       "      <th></th>\n",
       "      <th></th>\n",
       "      <th></th>\n",
       "    </tr>\n",
       "  </thead>\n",
       "  <tbody>\n",
       "    <tr>\n",
       "      <th>gate_30</th>\n",
       "      <td>0.491409</td>\n",
       "      <td>0.499926</td>\n",
       "      <td>0.029306</td>\n",
       "    </tr>\n",
       "    <tr>\n",
       "      <th>gate_40</th>\n",
       "      <td>0.412371</td>\n",
       "      <td>0.492261</td>\n",
       "      <td>0.028857</td>\n",
       "    </tr>\n",
       "  </tbody>\n",
       "</table>\n",
       "</div>"
      ],
      "text/plain": [
       "         conversion_rate       std       sem\n",
       "version                                     \n",
       "gate_30         0.491409  0.499926  0.029306\n",
       "gate_40         0.412371  0.492261  0.028857"
      ]
     },
     "execution_count": 14,
     "metadata": {},
     "output_type": "execute_result"
    }
   ],
   "source": [
    "tasas_conv = ab_test.groupby('version')['retention_1']\n",
    "\n",
    "tasas_conv = tasas_conv.agg([np.mean,\n",
    "                               lambda x: np.std(x, ddof=0),\n",
    "                               lambda x: stats.sem(x, ddof=0)\n",
    "                               ])\n",
    "\n",
    "\n",
    "tasas_conv.columns = ['conversion_rate', 'std', 'sem']\n",
    "\n",
    "tasas_conv"
   ]
  },
  {
   "cell_type": "code",
   "execution_count": 20,
   "id": "7937e4bb",
   "metadata": {},
   "outputs": [
    {
     "data": {
      "text/plain": [
       "(143, 120)"
      ]
     },
     "execution_count": 20,
     "metadata": {},
     "output_type": "execute_result"
    }
   ],
   "source": [
    "\n",
    "control_res = ab_test[ab_test.version=='gate_30']['retention_1']\n",
    "\n",
    "trat_res = ab_test[ab_test.version=='gate_40']['retention_1']\n",
    "sum(control_res), sum(trat_res)"
   ]
  },
  {
   "cell_type": "code",
   "execution_count": 22,
   "id": "ee0ec8af",
   "metadata": {},
   "outputs": [
    {
     "data": {
      "text/plain": [
       "((0.43396985354894196, 0.35581271178970525),\n",
       " (0.5488480158668656, 0.4689295562515318))"
      ]
     },
     "execution_count": 22,
     "metadata": {},
     "output_type": "execute_result"
    }
   ],
   "source": [
    "impresiones = [control_res.shape[0], trat_res.shape[0]]  # entrar en al pagina \n",
    "\n",
    "conversiones = [sum(control_res), sum(trat_res)]     # comprar en la pagina\n",
    "\n",
    "\n",
    "\n",
    "z_score, p_value = proportions_ztest(conversiones, nobs=impresiones)\n",
    "\n",
    "(control_a, trata_a), (control_b, trata_b) = proportion_confint(conversiones, \n",
    "                                                                nobs=impresiones,\n",
    "                                                                alpha=0.05)\n",
    "\n",
    "(control_a, trata_a), (control_b, trata_b)"
   ]
  },
  {
   "cell_type": "code",
   "execution_count": 23,
   "id": "db0351f7",
   "metadata": {},
   "outputs": [
    {
     "name": "stdout",
     "output_type": "stream",
     "text": [
      "z-score: 1.92\n",
      "p-valor: 0.055\n",
      "intervalo conf 95% para grupo control: [0.434, 0.549]\n",
      "intervalo conf 95% para grupo tratamiento: [0.356, 0.469]\n"
     ]
    }
   ],
   "source": [
    "print(f'z-score: {z_score:.2f}')\n",
    "\n",
    "print(f'p-valor: {p_value:.3f}')\n",
    "\n",
    "print(f'intervalo conf 95% para grupo control: [{control_a:.3f}, {control_b:.3f}]')\n",
    "\n",
    "print(f'intervalo conf 95% para grupo tratamiento: [{trata_a:.3f}, {trata_b:.3f}]')"
   ]
  },
  {
   "cell_type": "markdown",
   "id": "7ca651af",
   "metadata": {},
   "source": [
    "Dado que el \n",
    "-valor=0.055 es mayor que \n",
    "=0.05, no podemos rechazar la hipótesis nula \n",
    ", lo que significa que retencion_1 no tiene un rendimiento significativamente diferente del viejo diseño.\n"
   ]
  },
  {
   "cell_type": "code",
   "execution_count": 26,
   "id": "27846b10",
   "metadata": {},
   "outputs": [],
   "source": [
    "imps_ctrl = 42763\n",
    "convs_ctrl = len(df[(df.version == 'gate_30') & (df.retention_7 == True)])\n",
    "imps_test = 43432\n",
    "convs_test = (len(df[(df.version == 'gate_40') & (df.retention_7 == True)]))\n"
   ]
  },
  {
   "cell_type": "code",
   "execution_count": 27,
   "id": "0f679915",
   "metadata": {},
   "outputs": [
    {
     "data": {
      "text/plain": [
       "'Tasas estancia: Control: 0.19844257886490657, Test: 0.1903205010130779'"
      ]
     },
     "execution_count": 27,
     "metadata": {},
     "output_type": "execute_result"
    }
   ],
   "source": [
    "CR_ctrl = convs_ctrl/imps_ctrl\n",
    "CR_test = convs_test/imps_test\n",
    "f'Tasas estancia: Control: {CR_ctrl}, Test: {CR_test}'"
   ]
  },
  {
   "cell_type": "code",
   "execution_count": 28,
   "id": "66c2cca4",
   "metadata": {},
   "outputs": [
    {
     "data": {
      "text/plain": [
       "-0.4428623422097697"
      ]
     },
     "execution_count": 28,
     "metadata": {},
     "output_type": "execute_result"
    }
   ],
   "source": [
    "efecto = sms.proportion_effectsize(CR_ctrl, CR_ctrl + 0.2)\n",
    "efecto"
   ]
  },
  {
   "cell_type": "code",
   "execution_count": 29,
   "id": "4faff83c",
   "metadata": {},
   "outputs": [
    {
     "data": {
      "text/plain": [
       "245.05891080029676"
      ]
     },
     "execution_count": 29,
     "metadata": {},
     "output_type": "execute_result"
    }
   ],
   "source": [
    "n_requirido = sms.NormalIndPower().solve_power(efecto,\n",
    "                                               power=0.99,\n",
    "                                               alpha=0.01)\n",
    "n_requirido"
   ]
  },
  {
   "cell_type": "code",
   "execution_count": 30,
   "id": "60bf0a50",
   "metadata": {},
   "outputs": [
    {
     "data": {
      "text/html": [
       "<div>\n",
       "<style scoped>\n",
       "    .dataframe tbody tr th:only-of-type {\n",
       "        vertical-align: middle;\n",
       "    }\n",
       "\n",
       "    .dataframe tbody tr th {\n",
       "        vertical-align: top;\n",
       "    }\n",
       "\n",
       "    .dataframe thead th {\n",
       "        text-align: right;\n",
       "    }\n",
       "</style>\n",
       "<table border=\"1\" class=\"dataframe\">\n",
       "  <thead>\n",
       "    <tr style=\"text-align: right;\">\n",
       "      <th></th>\n",
       "      <th>userid</th>\n",
       "      <th>version</th>\n",
       "      <th>sum_gamerounds</th>\n",
       "      <th>retention_1</th>\n",
       "      <th>retention_7</th>\n",
       "    </tr>\n",
       "  </thead>\n",
       "  <tbody>\n",
       "    <tr>\n",
       "      <th>0</th>\n",
       "      <td>2741718</td>\n",
       "      <td>gate_30</td>\n",
       "      <td>15</td>\n",
       "      <td>True</td>\n",
       "      <td>False</td>\n",
       "    </tr>\n",
       "    <tr>\n",
       "      <th>1</th>\n",
       "      <td>1579627</td>\n",
       "      <td>gate_30</td>\n",
       "      <td>25</td>\n",
       "      <td>False</td>\n",
       "      <td>True</td>\n",
       "    </tr>\n",
       "    <tr>\n",
       "      <th>2</th>\n",
       "      <td>3558203</td>\n",
       "      <td>gate_30</td>\n",
       "      <td>5</td>\n",
       "      <td>False</td>\n",
       "      <td>False</td>\n",
       "    </tr>\n",
       "    <tr>\n",
       "      <th>3</th>\n",
       "      <td>50850</td>\n",
       "      <td>gate_30</td>\n",
       "      <td>34</td>\n",
       "      <td>True</td>\n",
       "      <td>True</td>\n",
       "    </tr>\n",
       "    <tr>\n",
       "      <th>4</th>\n",
       "      <td>6476239</td>\n",
       "      <td>gate_30</td>\n",
       "      <td>38</td>\n",
       "      <td>True</td>\n",
       "      <td>True</td>\n",
       "    </tr>\n",
       "  </tbody>\n",
       "</table>\n",
       "</div>"
      ],
      "text/plain": [
       "    userid  version  sum_gamerounds  retention_1  retention_7\n",
       "0  2741718  gate_30              15         True        False\n",
       "1  1579627  gate_30              25        False         True\n",
       "2  3558203  gate_30               5        False        False\n",
       "3    50850  gate_30              34         True         True\n",
       "4  6476239  gate_30              38         True         True"
      ]
     },
     "execution_count": 30,
     "metadata": {},
     "output_type": "execute_result"
    }
   ],
   "source": [
    "control = df[df.version == 'gate_30'].sample(n=291, random_state=42)\n",
    "\n",
    "tratamiento = df[df.version == 'gate_40'].sample(n=291, random_state=42)\n",
    "\n",
    "ab_test = pd.concat([control, tratamiento], axis=0)\n",
    "\n",
    "ab_test.reset_index(drop=True, inplace=True)\n",
    "\n",
    "ab_test.head()"
   ]
  },
  {
   "cell_type": "code",
   "execution_count": 31,
   "id": "b2c6c80c",
   "metadata": {},
   "outputs": [
    {
     "data": {
      "text/html": [
       "<div>\n",
       "<style scoped>\n",
       "    .dataframe tbody tr th:only-of-type {\n",
       "        vertical-align: middle;\n",
       "    }\n",
       "\n",
       "    .dataframe tbody tr th {\n",
       "        vertical-align: top;\n",
       "    }\n",
       "\n",
       "    .dataframe thead th {\n",
       "        text-align: right;\n",
       "    }\n",
       "</style>\n",
       "<table border=\"1\" class=\"dataframe\">\n",
       "  <thead>\n",
       "    <tr style=\"text-align: right;\">\n",
       "      <th></th>\n",
       "      <th>conversion_rate</th>\n",
       "      <th>std</th>\n",
       "      <th>sem</th>\n",
       "    </tr>\n",
       "    <tr>\n",
       "      <th>version</th>\n",
       "      <th></th>\n",
       "      <th></th>\n",
       "      <th></th>\n",
       "    </tr>\n",
       "  </thead>\n",
       "  <tbody>\n",
       "    <tr>\n",
       "      <th>gate_30</th>\n",
       "      <td>0.216495</td>\n",
       "      <td>0.411855</td>\n",
       "      <td>0.024143</td>\n",
       "    </tr>\n",
       "    <tr>\n",
       "      <th>gate_40</th>\n",
       "      <td>0.161512</td>\n",
       "      <td>0.368003</td>\n",
       "      <td>0.021573</td>\n",
       "    </tr>\n",
       "  </tbody>\n",
       "</table>\n",
       "</div>"
      ],
      "text/plain": [
       "         conversion_rate       std       sem\n",
       "version                                     \n",
       "gate_30         0.216495  0.411855  0.024143\n",
       "gate_40         0.161512  0.368003  0.021573"
      ]
     },
     "execution_count": 31,
     "metadata": {},
     "output_type": "execute_result"
    }
   ],
   "source": [
    "tasas_conv = ab_test.groupby('version')['retention_7']\n",
    "\n",
    "tasas_conv = tasas_conv.agg([np.mean,\n",
    "                               lambda x: np.std(x, ddof=0),\n",
    "                               lambda x: stats.sem(x, ddof=0)\n",
    "                               ])\n",
    "\n",
    "\n",
    "tasas_conv.columns = ['conversion_rate', 'std', 'sem']\n",
    "\n",
    "tasas_conv"
   ]
  },
  {
   "cell_type": "code",
   "execution_count": 33,
   "id": "dfba075f",
   "metadata": {},
   "outputs": [
    {
     "data": {
      "text/plain": [
       "(63, 47)"
      ]
     },
     "execution_count": 33,
     "metadata": {},
     "output_type": "execute_result"
    }
   ],
   "source": [
    "control_res = ab_test[ab_test.version=='gate_30']['retention_7']\n",
    "\n",
    "trat_res = ab_test[ab_test.version=='gate_40']['retention_7']\n",
    "sum(control_res), sum(trat_res)"
   ]
  },
  {
   "cell_type": "code",
   "execution_count": 34,
   "id": "5ce46722",
   "metadata": {},
   "outputs": [
    {
     "data": {
      "text/plain": [
       "((0.1691746743163834, 0.11923032659353525),\n",
       " (0.2638150164052661, 0.20379372838928264))"
      ]
     },
     "execution_count": 34,
     "metadata": {},
     "output_type": "execute_result"
    }
   ],
   "source": [
    "impresiones = [control_res.shape[0], trat_res.shape[0]]  # entrar en al pagina \n",
    "\n",
    "conversiones = [sum(control_res), sum(trat_res)]     # comprar en la pagina\n",
    "\n",
    "\n",
    "\n",
    "z_score, p_value = proportions_ztest(conversiones, nobs=impresiones)\n",
    "\n",
    "(control_a, trata_a), (control_b, trata_b) = proportion_confint(conversiones, \n",
    "                                                                nobs=impresiones,\n",
    "                                                                alpha=0.05)\n",
    "\n",
    "(control_a, trata_a), (control_b, trata_b)"
   ]
  },
  {
   "cell_type": "code",
   "execution_count": 35,
   "id": "8551f368",
   "metadata": {},
   "outputs": [
    {
     "name": "stdout",
     "output_type": "stream",
     "text": [
      "z-score: 1.69\n",
      "p-valor: 0.090\n",
      "intervalo conf 95% para grupo control: [0.169, 0.264]\n",
      "intervalo conf 95% para grupo tratamiento: [0.119, 0.204]\n"
     ]
    }
   ],
   "source": [
    "print(f'z-score: {z_score:.2f}')\n",
    "\n",
    "print(f'p-valor: {p_value:.3f}')\n",
    "\n",
    "print(f'intervalo conf 95% para grupo control: [{control_a:.3f}, {control_b:.3f}]')\n",
    "\n",
    "print(f'intervalo conf 95% para grupo tratamiento: [{trata_a:.3f}, {trata_b:.3f}]')"
   ]
  },
  {
   "cell_type": "code",
   "execution_count": null,
   "id": "498ff7a8",
   "metadata": {},
   "outputs": [],
   "source": []
  }
 ],
 "metadata": {
  "finalized": {
   "timestamp": 1642857010293,
   "trusted": true
  },
  "kernelspec": {
   "display_name": "clase",
   "language": "python",
   "name": "clase"
  },
  "language_info": {
   "codemirror_mode": {
    "name": "ipython",
    "version": 3
   },
   "file_extension": ".py",
   "mimetype": "text/x-python",
   "name": "python",
   "nbconvert_exporter": "python",
   "pygments_lexer": "ipython3",
   "version": "3.10.13"
  },
  "toc": {
   "base_numbering": 1,
   "nav_menu": {},
   "number_sections": true,
   "sideBar": true,
   "skip_h1_title": false,
   "title_cell": "Table of Contents",
   "title_sidebar": "Contents",
   "toc_cell": true,
   "toc_position": {},
   "toc_section_display": true,
   "toc_window_display": false
  },
  "varInspector": {
   "cols": {
    "lenName": 16,
    "lenType": 16,
    "lenVar": 40
   },
   "kernels_config": {
    "python": {
     "delete_cmd_postfix": "",
     "delete_cmd_prefix": "del ",
     "library": "var_list.py",
     "varRefreshCmd": "print(var_dic_list())"
    },
    "r": {
     "delete_cmd_postfix": ") ",
     "delete_cmd_prefix": "rm(",
     "library": "var_list.r",
     "varRefreshCmd": "cat(var_dic_list()) "
    }
   },
   "types_to_exclude": [
    "module",
    "function",
    "builtin_function_or_method",
    "instance",
    "_Feature"
   ],
   "window_display": false
  }
 },
 "nbformat": 4,
 "nbformat_minor": 5
}
